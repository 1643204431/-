{
 "cells": [
  {
   "cell_type": "code",
   "execution_count": 14,
   "metadata": {},
   "outputs": [],
   "source": [
    "from tensorflow_federated import python as tff\n",
    "import tensorflow_federated\n",
    "\n",
    "import os\n",
    "import collections\n",
    "import json\n",
    "import warnings\n",
    "warnings.filterwarnings('ignore')\n",
    "\n",
    "import numpy as np\n",
    "\n",
    "import nest_asyncio\n",
    "nest_asyncio.apply()\n",
    "\n",
    "from sklearn.model_selection import train_test_split\n",
    "from sklearn.preprocessing import OneHotEncoder\n",
    "from sklearn.feature_extraction.text import TfidfVectorizer\n",
    "\n",
    "import tensorflow as tf\n",
    "from tensorflow.keras.models import Sequential\n",
    "from tensorflow.keras.layers import Dense, Activation,Flatten\n",
    "from tensorflow.keras.layers import Conv1D, MaxPooling1D\n",
    "\n",
    "from sklearn.metrics import classification_report"
   ]
  },
  {
   "cell_type": "code",
   "execution_count": 64,
   "metadata": {},
   "outputs": [],
   "source": [
    "x = np.load('text.npy', allow_pickle=True)\n",
    "\n",
    "#Convert to sklearn support form\n",
    "u = []\n",
    "for txt_list in x:\n",
    "    u.append(' '.join(txt_list))\n",
    "    \n",
    "#Use the tf-idf method to extract features\n",
    "v = TfidfVectorizer(max_features=260)\n",
    "x = v.fit_transform(u).toarray()\n",
    "\n",
    "#One-hot encoding for y\n",
    "y = np.load('label.npy')\n",
    "\n",
    "enc = OneHotEncoder()\n",
    "\n",
    "y = enc.fit_transform(y.reshape(-1,1)).toarray()\n",
    "y = np.argmax(y,axis=1)\n",
    "\n",
    "#Test set proportion is 0.5\n",
    "x_train, x_test, y_train, y_test = train_test_split(x, y, test_size = 0.5)\n",
    "x_val = x_train[-1000:]\n",
    "y_val = y_train[-1000:]\n",
    "\n",
    "def resize(train_X):\n",
    "    train_X = train_X.reshape(train_X.shape[0],train_X.shape[1],1)\n",
    "    return train_X\n",
    "\n",
    "x_train = resize(x_train)\n",
    "x_test = resize(x_test)\n",
    "x_val = resize(x_val)"
   ]
  },
  {
   "cell_type": "code",
   "execution_count": 68,
   "metadata": {},
   "outputs": [],
   "source": [
    "batch_size = 64\n",
    "\n",
    "#Set up two servers\n",
    "train1_dataset = tf.data.Dataset.from_tensor_slices((x_train[0:1000,:], y_train[0:1000])).batch(batch_size)\n",
    "train2_dataset = tf.data.Dataset.from_tensor_slices((x_val[0:1000,:], y_val[0:1000])).batch(batch_size)\n",
    "\n",
    "federated_train_data = [train1_dataset,train2_dataset]"
   ]
  },
  {
   "cell_type": "code",
   "execution_count": 72,
   "metadata": {},
   "outputs": [],
   "source": [
    "#CNN\n",
    "spec = tf.keras.layers.InputSpec(\n",
    "    shape=(None, 260, 1),\n",
    "    allow_last_axis_squeeze=True\n",
    ")\n",
    "\n",
    "from tensorflow.keras import losses\n",
    "\n",
    "def form_model(filters1=10, num_class=9):   \n",
    "    models = Sequential()\n",
    "\n",
    "    models.add(Conv1D(filters1,\n",
    "                     kernel_size=3,\n",
    "                     input_shape=(260,1),\n",
    "                     activation='tanh',\n",
    "                     strides=2))\n",
    "    models.add(Conv1D(filters1,\n",
    "                     kernel_size=3,\n",
    "                     activation='tanh',\n",
    "                     strides=2))\n",
    "        \n",
    "    models.add(MaxPooling1D(pool_size=2))\n",
    "    \n",
    "    models.add(Conv1D(filters1,\n",
    "                     kernel_size=3,\n",
    "                     activation='tanh',\n",
    "                     strides=2))\n",
    "        \n",
    "    models.add(MaxPooling1D(pool_size=2))\n",
    "    \n",
    "\n",
    "    models.add(Flatten())\n",
    "\n",
    "    models.add(Dense(200))\n",
    "    models.add(Activation('tanh'))\n",
    "    models.add(Dense(100))\n",
    "    models.add(Dense(num_class))\n",
    "    models.add(Activation('softmax'))\n",
    "    \n",
    "    return tff.learning.from_keras_model(models,\n",
    "                                        loss=tf.keras.losses.SparseCategoricalCrossentropy(),\n",
    "                                         input_spec = train1_dataset.element_spec,\n",
    "                                         metrics=[tf.keras.metrics.SparseCategoricalAccuracy()]\n",
    "                                        )"
   ]
  },
  {
   "cell_type": "code",
   "execution_count": 70,
   "metadata": {},
   "outputs": [
    {
     "name": "stdout",
     "output_type": "stream",
     "text": [
      "( -> <\n",
      "  model=<\n",
      "    trainable=<\n",
      "      float32[3,1,10],\n",
      "      float32[10],\n",
      "      float32[640,200],\n",
      "      float32[200],\n",
      "      float32[200,100],\n",
      "      float32[100],\n",
      "      float32[100,9],\n",
      "      float32[9]\n",
      "    >,\n",
      "    non_trainable=<>\n",
      "  >,\n",
      "  optimizer_state=<\n",
      "    int64\n",
      "  >,\n",
      "  delta_aggregate_state=<\n",
      "    value_sum_process=<>,\n",
      "    weight_sum_process=<>\n",
      "  >,\n",
      "  model_broadcast_state=<>\n",
      ">@SERVER)\n"
     ]
    }
   ],
   "source": [
    "iterative_process = tff.learning.build_federated_averaging_process(form_model,\n",
    "                                                                 client_optimizer_fn=lambda: tf.keras.optimizers.SGD(0.1))\n",
    "\n",
    "print(iterative_process.initialize.type_signature.formatted_representation())"
   ]
  },
  {
   "cell_type": "code",
   "execution_count": 71,
   "metadata": {},
   "outputs": [
    {
     "name": "stdout",
     "output_type": "stream",
     "text": [
      "round  2, metrics=OrderedDict([('broadcast', ()), ('aggregation', OrderedDict([('mean_value', ()), ('mean_weight', ())])), ('train', OrderedDict([('sparse_categorical_accuracy', 0.1695), ('loss', 2.1838093), ('num_examples', 2000), ('num_batches', 32)]))])\n",
      "round  3, metrics=OrderedDict([('broadcast', ()), ('aggregation', OrderedDict([('mean_value', ()), ('mean_weight', ())])), ('train', OrderedDict([('sparse_categorical_accuracy', 0.2225), ('loss', 2.162688), ('num_examples', 2000), ('num_batches', 32)]))])\n",
      "round  4, metrics=OrderedDict([('broadcast', ()), ('aggregation', OrderedDict([('mean_value', ()), ('mean_weight', ())])), ('train', OrderedDict([('sparse_categorical_accuracy', 0.297), ('loss', 2.1378682), ('num_examples', 2000), ('num_batches', 32)]))])\n",
      "round  5, metrics=OrderedDict([('broadcast', ()), ('aggregation', OrderedDict([('mean_value', ()), ('mean_weight', ())])), ('train', OrderedDict([('sparse_categorical_accuracy', 0.3765), ('loss', 2.105277), ('num_examples', 2000), ('num_batches', 32)]))])\n",
      "round  6, metrics=OrderedDict([('broadcast', ()), ('aggregation', OrderedDict([('mean_value', ()), ('mean_weight', ())])), ('train', OrderedDict([('sparse_categorical_accuracy', 0.457), ('loss', 2.0600178), ('num_examples', 2000), ('num_batches', 32)]))])\n",
      "round  7, metrics=OrderedDict([('broadcast', ()), ('aggregation', OrderedDict([('mean_value', ()), ('mean_weight', ())])), ('train', OrderedDict([('sparse_categorical_accuracy', 0.5225), ('loss', 1.9951428), ('num_examples', 2000), ('num_batches', 32)]))])\n",
      "round  8, metrics=OrderedDict([('broadcast', ()), ('aggregation', OrderedDict([('mean_value', ()), ('mean_weight', ())])), ('train', OrderedDict([('sparse_categorical_accuracy', 0.5815), ('loss', 1.9016417), ('num_examples', 2000), ('num_batches', 32)]))])\n",
      "round  9, metrics=OrderedDict([('broadcast', ()), ('aggregation', OrderedDict([('mean_value', ()), ('mean_weight', ())])), ('train', OrderedDict([('sparse_categorical_accuracy', 0.614), ('loss', 1.7717456), ('num_examples', 2000), ('num_batches', 32)]))])\n",
      "round 10, metrics=OrderedDict([('broadcast', ()), ('aggregation', OrderedDict([('mean_value', ()), ('mean_weight', ())])), ('train', OrderedDict([('sparse_categorical_accuracy', 0.6465), ('loss', 1.6085433), ('num_examples', 2000), ('num_batches', 32)]))])\n"
     ]
    }
   ],
   "source": [
    "state = iterative_process.initialize()\n",
    "NUM_ROUNDS = 11\n",
    "for round_num in range(2, NUM_ROUNDS):\n",
    "    state, metrics = iterative_process.next(state, federated_train_data)\n",
    "    print('round {:2d}, metrics={}'.format(round_num, metrics))"
   ]
  },
  {
   "cell_type": "code",
   "execution_count": null,
   "metadata": {},
   "outputs": [],
   "source": []
  }
 ],
 "metadata": {
  "kernelspec": {
   "display_name": "myconda",
   "language": "python",
   "name": "myconda"
  },
  "language_info": {
   "codemirror_mode": {
    "name": "ipython",
    "version": 3
   },
   "file_extension": ".py",
   "mimetype": "text/x-python",
   "name": "python",
   "nbconvert_exporter": "python",
   "pygments_lexer": "ipython3",
   "version": "3.8.5"
  }
 },
 "nbformat": 4,
 "nbformat_minor": 4
}
